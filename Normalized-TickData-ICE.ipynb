{
 "cells": [
  {
   "cell_type": "code",
   "execution_count": 27,
   "metadata": {},
   "outputs": [
    {
     "name": "stdout",
     "output_type": "stream",
     "text": [
      "Querying data from the database...\n",
      "\n",
      "Snapshot Started...security Id: 5206269\n",
      "\t01/25/18 03:00:19 (51_916_530 nsec) - local time\n",
      "Snapshot Completed...security Id: 5206269\n",
      "\t01/25/18 03:00:19 (64_847_250 nsec) - local time\n",
      "Total Rows Processed: 61437\n",
      "\n",
      "!!!!!!!!!!!!! Packet Fetching FINIHSED SUCCESSFULLY !!!!!!!!!!!!!\n"
     ]
    }
   ],
   "source": [
    "import NormalDataParserPy\n",
    "import pandas as pd\n",
    "import numpy as np\n",
    "\n",
    "marketDataCpp = NormalDataParserPy.orderBooksWithDepth()\n",
    "marketDataCpp.query_filter.exchange_vec = ['ICE_CHC'];\n",
    "marketDataCpp.query_filter.date_vec = ['01252018']\n",
    "marketDataCpp.query_filter.symbols_vec = ['SB  FMH0018-SB  FMK0018']\n",
    "marketDataPy = marketDataCpp.get(num_of_levels = 5, numOrderIdsPerLevel = 500)"
   ]
  },
  {
   "cell_type": "code",
   "execution_count": 28,
   "metadata": {},
   "outputs": [
    {
     "name": "stdout",
     "output_type": "stream",
     "text": [
      "TOTAL: 46331 events\n"
     ]
    }
   ],
   "source": [
    "t_time = pd.DatetimeIndex(pd.to_datetime(marketDataPy.protocol_message_time)).tz_localize('UTC').tz_convert('US/Central').tz_localize(None)\n",
    "print 'TOTAL: ' + str(len(t_time)) + ' events'\n",
    "\n",
    "df = pd.DataFrame({'t_time' : t_time,\n",
    "    'bid_orders' : marketDataPy.bid_orders[:,0], 'bid_size': marketDataPy.bid_size[:,0], 'bid_price': marketDataPy.bid_price[:,0],\n",
    "    'ask_price': marketDataPy.ask_price[:,0], 'ask_size': marketDataPy.ask_size[:,0], 'ask_orders' : marketDataPy.ask_orders[:,0],\n",
    "    'trade_size': marketDataPy.trade_size},\n",
    "    columns = ['t_time', 'trade_size', 'bid_orders', 'bid_size', 'bid_price', 'ask_price', 'ask_size', 'ask_orders'])"
   ]
  },
  {
   "cell_type": "code",
   "execution_count": 35,
   "metadata": {},
   "outputs": [
    {
     "data": {
      "text/html": [
       "<div>\n",
       "<style scoped>\n",
       "    .dataframe tbody tr th:only-of-type {\n",
       "        vertical-align: middle;\n",
       "    }\n",
       "\n",
       "    .dataframe tbody tr th {\n",
       "        vertical-align: top;\n",
       "    }\n",
       "\n",
       "    .dataframe thead th {\n",
       "        text-align: right;\n",
       "    }\n",
       "</style>\n",
       "<table border=\"1\" class=\"dataframe\">\n",
       "  <thead>\n",
       "    <tr style=\"text-align: right;\">\n",
       "      <th></th>\n",
       "      <th>t_time</th>\n",
       "      <th>trade_size</th>\n",
       "      <th>bid_orders</th>\n",
       "      <th>bid_size</th>\n",
       "      <th>bid_price</th>\n",
       "      <th>ask_price</th>\n",
       "      <th>ask_size</th>\n",
       "      <th>ask_orders</th>\n",
       "    </tr>\n",
       "  </thead>\n",
       "  <tbody>\n",
       "    <tr>\n",
       "      <th>700</th>\n",
       "      <td>2018-01-25 03:01:01.140669008</td>\n",
       "      <td>0</td>\n",
       "      <td>7</td>\n",
       "      <td>69</td>\n",
       "      <td>-130.0</td>\n",
       "      <td>-120.0</td>\n",
       "      <td>445</td>\n",
       "      <td>35</td>\n",
       "    </tr>\n",
       "    <tr>\n",
       "      <th>701</th>\n",
       "      <td>2018-01-25 03:01:01.141000000</td>\n",
       "      <td>0</td>\n",
       "      <td>7</td>\n",
       "      <td>69</td>\n",
       "      <td>-130.0</td>\n",
       "      <td>-120.0</td>\n",
       "      <td>442</td>\n",
       "      <td>34</td>\n",
       "    </tr>\n",
       "    <tr>\n",
       "      <th>702</th>\n",
       "      <td>2018-01-25 03:01:01.141372003</td>\n",
       "      <td>0</td>\n",
       "      <td>7</td>\n",
       "      <td>70</td>\n",
       "      <td>-130.0</td>\n",
       "      <td>-120.0</td>\n",
       "      <td>442</td>\n",
       "      <td>34</td>\n",
       "    </tr>\n",
       "    <tr>\n",
       "      <th>703</th>\n",
       "      <td>2018-01-25 03:01:01.141470003</td>\n",
       "      <td>0</td>\n",
       "      <td>7</td>\n",
       "      <td>75</td>\n",
       "      <td>-130.0</td>\n",
       "      <td>-120.0</td>\n",
       "      <td>442</td>\n",
       "      <td>34</td>\n",
       "    </tr>\n",
       "    <tr>\n",
       "      <th>704</th>\n",
       "      <td>2018-01-25 03:01:01.141503001</td>\n",
       "      <td>0</td>\n",
       "      <td>7</td>\n",
       "      <td>74</td>\n",
       "      <td>-130.0</td>\n",
       "      <td>-120.0</td>\n",
       "      <td>442</td>\n",
       "      <td>34</td>\n",
       "    </tr>\n",
       "  </tbody>\n",
       "</table>\n",
       "</div>"
      ],
      "text/plain": [
       "                           t_time  trade_size  bid_orders  bid_size  \\\n",
       "700 2018-01-25 03:01:01.140669008           0           7        69   \n",
       "701 2018-01-25 03:01:01.141000000           0           7        69   \n",
       "702 2018-01-25 03:01:01.141372003           0           7        70   \n",
       "703 2018-01-25 03:01:01.141470003           0           7        75   \n",
       "704 2018-01-25 03:01:01.141503001           0           7        74   \n",
       "\n",
       "     bid_price  ask_price  ask_size  ask_orders  \n",
       "700     -130.0     -120.0       445          35  \n",
       "701     -130.0     -120.0       442          34  \n",
       "702     -130.0     -120.0       442          34  \n",
       "703     -130.0     -120.0       442          34  \n",
       "704     -130.0     -120.0       442          34  "
      ]
     },
     "execution_count": 35,
     "metadata": {},
     "output_type": "execute_result"
    }
   ],
   "source": [
    "TIMESTAMP_INDEX = 700\n",
    "df.iloc[TIMESTAMP_INDEX:].head()"
   ]
  },
  {
   "cell_type": "code",
   "execution_count": 4,
   "metadata": {},
   "outputs": [
    {
     "name": "stdout",
     "output_type": "stream",
     "text": [
      "2018-01-09 09:59:31.555958002\n"
     ]
    },
    {
     "data": {
      "image/png": "[encoded data removed]",
      "text/plain": [
       "<matplotlib.figure.Figure at 0x7f7c2d893a10>"
      ]
     },
     "metadata": {},
     "output_type": "display_data"
    }
   ],
   "source": [
    "bid_order_sizes, bid_order_ids, bid_order_our = ([] for i in range(3))\n",
    "for i in range(marketDataPy.bid_orders[TIMESTAMP_INDEX][0]):\n",
    "    bid_order_ids.append(marketDataPy.bid_orders_ids[TIMESTAMP_INDEX][i])\n",
    "    bid_order_sizes.append(marketDataPy.bid_orders_ids_size[TIMESTAMP_INDEX][i])\n",
    "    bid_order_our.append(marketDataPy.bid_orders_ids_size[TIMESTAMP_INDEX][i]\n",
    "        if marketDataPy.bid_orders_ids_tmg[TIMESTAMP_INDEX][i] == 1 else 0)\n",
    "\n",
    "ask_order_sizes, ask_order_ids, ask_order_our = ([] for i in range(3))\n",
    "for i in range(marketDataPy.ask_orders[TIMESTAMP_INDEX][0]):\n",
    "    ask_order_ids.append(marketDataPy.ask_orders_ids[TIMESTAMP_INDEX][i])\n",
    "    ask_order_sizes.append(marketDataPy.ask_orders_ids_size[TIMESTAMP_INDEX][i])\n",
    "    ask_order_our.append(marketDataPy.ask_orders_ids_size[TIMESTAMP_INDEX][i]\n",
    "        if marketDataPy.ask_orders_ids_tmg[TIMESTAMP_INDEX][i] == 1 else 0)\n",
    "        \n",
    "import matplotlib.pyplot as plt\n",
    "%matplotlib inline\n",
    "plt.figure(figsize=(21,10))\n",
    "\n",
    "plt.subplot(211)\n",
    "plt.bar(range(len(ask_order_sizes)), ask_order_sizes)\n",
    "plt.bar(range(len(ask_order_sizes)), ask_order_our, color='r')\n",
    "plt.title('Asks @ ' + str(marketDataPy.ask_price[TIMESTAMP_INDEX][0]) + ' (' + str(np.sum(ask_order_sizes)) + ' lots, ' + str(len(ask_order_sizes)) + ' orders)')\n",
    "\n",
    "plt.subplot(212)\n",
    "plt.bar(range(len(bid_order_sizes)), bid_order_sizes)\n",
    "plt.bar(range(len(bid_order_sizes)), bid_order_our, color='r')\n",
    "plt.title('Bids @ ' + str(marketDataPy.bid_price[TIMESTAMP_INDEX][0]) + ' (' + str(np.sum(bid_order_sizes)) + ' lots, ' + str(len(bid_order_sizes)) + ' orders)')\n",
    "\n",
    "print df.iloc[TIMESTAMP_INDEX].t_time\n",
    "plt.show()"
   ]
  },
  {
   "cell_type": "code",
   "execution_count": 6,
   "metadata": {},
   "outputs": [
    {
     "data": {
      "text/plain": [
       "<matplotlib.axes._subplots.AxesSubplot at 0x7f9348c003d0>"
      ]
     },
     "execution_count": 6,
     "metadata": {},
     "output_type": "execute_result"
    },
    {
     "name": "stderr",
     "output_type": "stream",
     "text": [
      "/home/local/TMG/samuel.kalt/anaconda2/lib/python2.7/site-packages/matplotlib/font_manager.py:1297: UserWarning: findfont: Font family [u'sans-serif'] not found. Falling back to DejaVu Sans\n",
      "  (prop.get_family(), self.defaultFamily[fontext]))\n"
     ]
    },
    {
     "data": {
      "image/png": "[encoded data removed]",
      "text/plain": [
       "<matplotlib.figure.Figure at 0x7f93529b4d90>"
      ]
     },
     "metadata": {},
     "output_type": "display_data"
    }
   ],
   "source": [
    "import seaborn as sns\n",
    "sns.distplot(ask_order_sizes)"
   ]
  },
  {
   "cell_type": "code",
   "execution_count": null,
   "metadata": {},
   "outputs": [],
   "source": []
  }
 ],
 "metadata": {
  "kernelspec": {
   "display_name": "Python 2",
   "language": "python",
   "name": "python2"
  },
  "language_info": {
   "codemirror_mode": {
    "name": "ipython",
    "version": 2
   },
   "file_extension": ".py",
   "mimetype": "text/x-python",
   "name": "python",
   "nbconvert_exporter": "python",
   "pygments_lexer": "ipython2",
   "version": "2.7.13"
  }
 },
 "nbformat": 4,
 "nbformat_minor": 2
}
